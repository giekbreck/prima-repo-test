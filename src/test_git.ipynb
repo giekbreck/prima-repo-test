{
 "cells": [
  {
   "cell_type": "markdown",
   "metadata": {},
   "source": [
    "## Notebook di test per provare comandi Git, workflow e codice"
   ]
  },
  {
   "cell_type": "markdown",
   "metadata": {},
   "source": [
    "### comandi di base\n",
    "\n",
    "```bash\n",
    "git status\n",
    "git add <file>\n",
    "git commmit -m \"messaggio\"\n",
    "git pull origin main --rebase # se il push non da errore non obbligatorio ma è più pulito \n",
    "git push origin main\n",
    "```\n"
   ]
  },
  {
   "cell_type": "markdown",
   "metadata": {},
   "source": [
    "##  Appunti\n",
    "\n",
    "- Provare a generare file e aggiungerli con `git`\n",
    "- Simulare uno stash\n",
    "- Annotare esempi di conflitti da testare\n"
   ]
  },
  {
   "cell_type": "code",
   "execution_count": 2,
   "metadata": {},
   "outputs": [],
   "source": [
    "#modifica per test git revert"
   ]
  }
 ],
 "metadata": {
  "kernelspec": {
   "display_name": "Python 3",
   "language": "python",
   "name": "python3"
  },
  "language_info": {
   "codemirror_mode": {
    "name": "ipython",
    "version": 3
   },
   "file_extension": ".py",
   "mimetype": "text/x-python",
   "name": "python",
   "nbconvert_exporter": "python",
   "pygments_lexer": "ipython3",
   "version": "3.13.3"
  }
 },
 "nbformat": 4,
 "nbformat_minor": 2
}
